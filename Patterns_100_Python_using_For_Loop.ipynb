{
 "cells": [
  {
   "cell_type": "code",
   "execution_count": 2,
   "id": "0df3f907-e621-4eef-9ed6-3b1a499f7740",
   "metadata": {},
   "outputs": [
    {
     "name": "stdout",
     "output_type": "stream",
     "text": [
      "* * * * * \n",
      "* * * * * \n",
      "* * * * * \n",
      "* * * * * \n",
      "* * * * * \n"
     ]
    }
   ],
   "source": [
    "#1.\n",
    "for i in range(5):\n",
    "    for j in range(5):\n",
    "        print(\"*\", end = \" \")\n",
    "    print()"
   ]
  },
  {
   "cell_type": "code",
   "execution_count": 12,
   "id": "5e48ecfe-2f56-4ca1-a67d-f2dbb9dfa510",
   "metadata": {},
   "outputs": [
    {
     "name": "stdout",
     "output_type": "stream",
     "text": [
      "1 1 1 1 1 \n",
      "2 2 2 2 2 \n",
      "3 3 3 3 3 \n",
      "4 4 4 4 4 \n",
      "5 5 5 5 5 \n"
     ]
    }
   ],
   "source": [
    "#2.\n",
    "for i in range(5):\n",
    "    for j in range(5):\n",
    "        print(i+1, end = \" \")\n",
    "    print()"
   ]
  },
  {
   "cell_type": "code",
   "execution_count": 16,
   "id": "ed09974f-65dd-46ec-86e2-7d380bb80dd6",
   "metadata": {},
   "outputs": [
    {
     "name": "stdout",
     "output_type": "stream",
     "text": [
      "1 2 3 4 5 \n",
      "1 2 3 4 5 \n",
      "1 2 3 4 5 \n",
      "1 2 3 4 5 \n",
      "1 2 3 4 5 \n"
     ]
    }
   ],
   "source": [
    "#3.\n",
    "for i in range(1,6):\n",
    "    for j in range(1,6):\n",
    "        print(j , end =\" \")\n",
    "    print()"
   ]
  },
  {
   "cell_type": "code",
   "execution_count": 18,
   "id": "4c37cf6c-f614-4532-b3f7-83c62ac013be",
   "metadata": {},
   "outputs": [
    {
     "name": "stdout",
     "output_type": "stream",
     "text": [
      "A A A A A \n",
      "B B B B B \n",
      "C C C C C \n",
      "D D D D D \n",
      "E E E E E \n"
     ]
    }
   ],
   "source": [
    "#4.\n",
    "for i in range(1,6):\n",
    "    for j in range(1,6):\n",
    "        print(chr(64+i) ,end  = \" \" )\n",
    "    print()"
   ]
  },
  {
   "cell_type": "code",
   "execution_count": 20,
   "id": "6c732235-f70d-42c6-909a-b599a324f80f",
   "metadata": {},
   "outputs": [
    {
     "name": "stdout",
     "output_type": "stream",
     "text": [
      "A B C D E \n",
      "A B C D E \n",
      "A B C D E \n",
      "A B C D E \n",
      "A B C D E \n"
     ]
    }
   ],
   "source": [
    "#5.\n",
    "for i in range(5):\n",
    "    for j in range(5):\n",
    "        print(chr(65+j) , end = \" \")\n",
    "    print()"
   ]
  },
  {
   "cell_type": "code",
   "execution_count": 24,
   "id": "0e7e6531-d5ea-4c35-8813-6d86ee2e2d90",
   "metadata": {},
   "outputs": [
    {
     "name": "stdout",
     "output_type": "stream",
     "text": [
      "5 5 5 5 5 \n",
      "4 4 4 4 4 \n",
      "3 3 3 3 3 \n",
      "2 2 2 2 2 \n",
      "1 1 1 1 1 \n"
     ]
    }
   ],
   "source": [
    "#6.\n",
    "for i in range(5):\n",
    "    for j in range(5):\n",
    "        print(5-i , end = \" \")\n",
    "    print()"
   ]
  },
  {
   "cell_type": "code",
   "execution_count": 28,
   "id": "ab2b23c5-8cc7-4423-a053-d0d210147c25",
   "metadata": {},
   "outputs": [
    {
     "name": "stdout",
     "output_type": "stream",
     "text": [
      "5 4 3 2 1 \n",
      "5 4 3 2 1 \n",
      "5 4 3 2 1 \n",
      "5 4 3 2 1 \n",
      "5 4 3 2 1 \n"
     ]
    }
   ],
   "source": [
    "#7.\n",
    "for i in range(5):\n",
    "    for j in range(5):\n",
    "        print(5-j, end = \" \")\n",
    "    print()"
   ]
  },
  {
   "cell_type": "code",
   "execution_count": 32,
   "id": "2d389478-3a92-47ad-8550-10434d82a66b",
   "metadata": {},
   "outputs": [
    {
     "name": "stdout",
     "output_type": "stream",
     "text": [
      "E E E E E \n",
      "D D D D D \n",
      "C C C C C \n",
      "B B B B B \n",
      "A A A A A \n"
     ]
    }
   ],
   "source": [
    "#8.\n",
    "for i in range(5):\n",
    "    for j in range(5):\n",
    "        print(chr(69-i) , end = \" \")\n",
    "    print()"
   ]
  },
  {
   "cell_type": "code",
   "execution_count": 36,
   "id": "c652126a-092e-4cc5-a92f-355def33c4ac",
   "metadata": {},
   "outputs": [
    {
     "name": "stdout",
     "output_type": "stream",
     "text": [
      "E D C B A \n",
      "E D C B A \n",
      "E D C B A \n",
      "E D C B A \n",
      "E D C B A \n"
     ]
    }
   ],
   "source": [
    "#9.\n",
    "for i in range(5):\n",
    "    for j in range(5):\n",
    "        print(chr(69-j),end = \" \")\n",
    "    print()"
   ]
  },
  {
   "cell_type": "code",
   "execution_count": 64,
   "id": "0f62f6be-05c9-49c5-aa3f-605942108c1e",
   "metadata": {},
   "outputs": [
    {
     "name": "stdout",
     "output_type": "stream",
     "text": [
      "\n",
      "* \n",
      "* * \n",
      "* * * \n",
      "* * * * \n",
      "* * * * * \n"
     ]
    }
   ],
   "source": [
    "#10.\n",
    "for i in range(6):print(\"* \"*i )\n",
    "    "
   ]
  },
  {
   "cell_type": "code",
   "execution_count": 66,
   "id": "2ee55780-ffb8-4b02-b855-ddd912bc8982",
   "metadata": {},
   "outputs": [
    {
     "name": "stdout",
     "output_type": "stream",
     "text": [
      "\n",
      "1\n",
      "2 2\n",
      "3 3 3\n",
      "4 4 4 4\n",
      "5 5 5 5 5\n"
     ]
    }
   ],
   "source": [
    "#11.\n",
    "for i in range(6):print(\" \".join(str(i)*i))\n",
    "    "
   ]
  },
  {
   "cell_type": "code",
   "execution_count": 94,
   "id": "20ed2b37-26d5-42b4-9c96-f4d17692def1",
   "metadata": {},
   "outputs": [
    {
     "name": "stdout",
     "output_type": "stream",
     "text": [
      "1 \n",
      "1 2 \n",
      "1 2 3 \n",
      "1 2 3 4 \n",
      "1 2 3 4 5 \n"
     ]
    }
   ],
   "source": [
    "    #12.\n",
    "for i in range(5):\n",
    "    for j in range(i+1):\n",
    "        print(j+1, end = \" \")\n",
    "    print()"
   ]
  },
  {
   "cell_type": "code",
   "execution_count": 104,
   "id": "989ace9d-1537-4afd-aea2-89b4d2f13bcf",
   "metadata": {},
   "outputs": [
    {
     "name": "stdout",
     "output_type": "stream",
     "text": [
      "\n",
      "A\n",
      "B B\n",
      "C C C\n",
      "D D D D\n",
      "E E E E E\n"
     ]
    }
   ],
   "source": [
    "#13.\n",
    "for i in range(6):print(\" \". join(chr(64+i)*i))"
   ]
  },
  {
   "cell_type": "code",
   "execution_count": 116,
   "id": "82ad15dc-cd5b-436e-ad90-f713b6abd57b",
   "metadata": {},
   "outputs": [
    {
     "name": "stdout",
     "output_type": "stream",
     "text": [
      "A \n",
      "A B \n",
      "A B C \n",
      "A B C D \n",
      "A B C D E \n"
     ]
    }
   ],
   "source": [
    "#14.\n",
    "for i in range(5):\n",
    "    for j in range(i+1):\n",
    "        print(chr(65+j),end = \" \")\n",
    "    print()"
   ]
  },
  {
   "cell_type": "code",
   "execution_count": 118,
   "id": "8ccd76e7-a841-4d40-9564-007ee69a70a6",
   "metadata": {},
   "outputs": [
    {
     "name": "stdout",
     "output_type": "stream",
     "text": [
      "* * * * * \n",
      "* * * * \n",
      "* * * \n",
      "* * \n",
      "* \n",
      "\n"
     ]
    }
   ],
   "source": [
    "#15.\n",
    "for i in range(5,-1,-1):\n",
    "    for j in range(i):\n",
    "        print(\"*\" ,end =  \" \" )\n",
    "    print()"
   ]
  },
  {
   "cell_type": "code",
   "execution_count": 134,
   "id": "6d963b69-7959-4dc3-b434-d78bec762d13",
   "metadata": {},
   "outputs": [
    {
     "name": "stdout",
     "output_type": "stream",
     "text": [
      "1 1 1 1 1 \n",
      "2 2 2 2 \n",
      "3 3 3 \n",
      "4 4 \n",
      "5 \n"
     ]
    }
   ],
   "source": [
    "#16.\n",
    "for i in range(1,6):\n",
    "    for j in range(6-i,0,-1):\n",
    "        print(i,end = \" \")\n",
    "    print()"
   ]
  },
  {
   "cell_type": "code",
   "execution_count": 144,
   "id": "426e4715-c939-4ac9-8dc5-9f5b2385ff16",
   "metadata": {},
   "outputs": [
    {
     "name": "stdout",
     "output_type": "stream",
     "text": [
      "1 2 3 4 5 \n",
      "1 2 3 4 \n",
      "1 2 3 \n",
      "1 2 \n",
      "1 \n"
     ]
    }
   ],
   "source": [
    "#17.\n",
    "for i in range(1,6):\n",
    "    for j in range(6-i):\n",
    "        print( j+1, end = \" \")\n",
    "    print()"
   ]
  },
  {
   "cell_type": "code",
   "execution_count": 146,
   "id": "c453ce6e-8059-451c-a033-b499afe94023",
   "metadata": {},
   "outputs": [
    {
     "name": "stdout",
     "output_type": "stream",
     "text": [
      "A A A A A \n",
      "B B B B \n",
      "C C C \n",
      "D D \n",
      "E \n"
     ]
    }
   ],
   "source": [
    "#18.\n",
    "for  i in range(5):\n",
    "    for j in range(5-i):\n",
    "        print(chr(65+i), end = \" \")\n",
    "    print()"
   ]
  },
  {
   "cell_type": "code",
   "execution_count": 148,
   "id": "c0515c43-6eae-441a-b8d3-4241b8fe62c9",
   "metadata": {},
   "outputs": [
    {
     "name": "stdout",
     "output_type": "stream",
     "text": [
      "A B C D E \n",
      "A B C D \n",
      "A B C \n",
      "A B \n",
      "A \n"
     ]
    }
   ],
   "source": [
    "#19.\n",
    "for i in range(5):\n",
    "    for j in range(5-i):\n",
    "        print(chr(65+j) ,end = \" \")\n",
    "    print()"
   ]
  },
  {
   "cell_type": "code",
   "execution_count": 184,
   "id": "dffdb285-5117-4eff-8ead-62edebe91a60",
   "metadata": {},
   "outputs": [
    {
     "name": "stdout",
     "output_type": "stream",
     "text": [
      "5 5 5 5 5 \n",
      "4 4 4 4 \n",
      "3 3 3 \n",
      "2 2 \n",
      "1 \n"
     ]
    }
   ],
   "source": [
    "#20.\n",
    "for i in range(5,0,-1):\n",
    "    for j in range(i):\n",
    "        print(i,end = \" \" )\n",
    "    print()"
   ]
  },
  {
   "cell_type": "code",
   "execution_count": null,
   "id": "ccbb68eb-a640-4765-9fed-b4ab4116569d",
   "metadata": {},
   "outputs": [],
   "source": []
  },
  {
   "cell_type": "code",
   "execution_count": 194,
   "id": "5e63d1e0-546f-4365-b793-b4ba14fc5b86",
   "metadata": {},
   "outputs": [
    {
     "name": "stdout",
     "output_type": "stream",
     "text": [
      "5 4 3 2 1 \n",
      "5 4 3 2 \n",
      "5 4 3 \n",
      "5 4 \n",
      "5 \n"
     ]
    }
   ],
   "source": [
    "#21.\n",
    "for i in range(5):\n",
    "    for j in range(5,i,-1):\n",
    "        print(j,end = \" \")\n",
    "    print()"
   ]
  },
  {
   "cell_type": "code",
   "execution_count": 200,
   "id": "1ad63183-85a7-4442-ae61-250a3dc0f620",
   "metadata": {},
   "outputs": [
    {
     "name": "stdout",
     "output_type": "stream",
     "text": [
      "E E E E E \n",
      "D D D D \n",
      "C C C \n",
      "B B \n",
      "A \n"
     ]
    }
   ],
   "source": [
    "#22.\n",
    "for i in range(5,0,-1):\n",
    "    for j in range(i):\n",
    "        print(chr(64+i), end = \" \")\n",
    "    print()"
   ]
  },
  {
   "cell_type": "code",
   "execution_count": 202,
   "id": "cfc28164-7eec-496b-b6e0-4b382a7ac102",
   "metadata": {},
   "outputs": [
    {
     "name": "stdout",
     "output_type": "stream",
     "text": [
      "E D C B A \n",
      "E D C B \n",
      "E D C \n",
      "E D \n",
      "E \n"
     ]
    }
   ],
   "source": [
    "#23.\n",
    "for i in range(5):\n",
    "    for j in range(5,i,-1):\n",
    "        print(chr(64+j), end =\" \")\n",
    "    print()"
   ]
  },
  {
   "cell_type": "code",
   "execution_count": 206,
   "id": "3e9685c4-844e-4b4b-a9a1-9414f76bdcab",
   "metadata": {},
   "outputs": [
    {
     "name": "stdout",
     "output_type": "stream",
     "text": [
      "          \n",
      "        * \n",
      "      * * \n",
      "    * * * \n",
      "  * * * * \n",
      "* * * * * \n"
     ]
    }
   ],
   "source": [
    "#24.\n",
    "for i in range(6):\n",
    "    for k in range(5-i):\n",
    "        print(\" \" ,end = \" \")\n",
    "    for j in range(i):\n",
    "        print(\"*\" , end = \" \")\n",
    "    print()"
   ]
  },
  {
   "cell_type": "code",
   "execution_count": 208,
   "id": "1f2368e9-8a8b-4cf9-81b9-edc54942cd8b",
   "metadata": {},
   "outputs": [
    {
     "name": "stdout",
     "output_type": "stream",
     "text": [
      "          \n",
      "        1 \n",
      "      2 2 \n",
      "    3 3 3 \n",
      "  4 4 4 4 \n",
      "5 5 5 5 5 \n"
     ]
    }
   ],
   "source": [
    "#25.\n",
    "for i in range(6):\n",
    "    for k in range(5-i):\n",
    "        print(\" \", end = \" \")\n",
    "    for j in range(i):\n",
    "        print(i ,end = \" \")\n",
    "    print()"
   ]
  },
  {
   "cell_type": "code",
   "execution_count": 214,
   "id": "cd3625fb-f21f-4e89-afd2-cd33b6ed0dde",
   "metadata": {},
   "outputs": [
    {
     "name": "stdout",
     "output_type": "stream",
     "text": [
      "          \n",
      "        1 \n",
      "      1 2 \n",
      "    1 2 3 \n",
      "  1 2 3 4 \n",
      "1 2 3 4 5 \n"
     ]
    }
   ],
   "source": [
    "#26.\n",
    "for i in range(6):\n",
    "    for k in range(5-i):\n",
    "        print(\" \", end = \" \")\n",
    "    for j in range(i):\n",
    "        print(j+1 , end = \" \")\n",
    "    print()"
   ]
  },
  {
   "cell_type": "code",
   "execution_count": 218,
   "id": "4d006321-a182-4d37-a978-b273e36c0fa6",
   "metadata": {},
   "outputs": [
    {
     "name": "stdout",
     "output_type": "stream",
     "text": [
      "          \n",
      "        A \n",
      "      B B \n",
      "    C C C \n",
      "  D D D D \n",
      "E E E E E \n"
     ]
    }
   ],
   "source": [
    "#27.\n",
    "for i in range(6):\n",
    "    for k in  range(5-i):\n",
    "        print( \" \" , end = \" \")\n",
    "    for j in range(i):\n",
    "        print(chr(64+i),end = \" \")\n",
    "    print()"
   ]
  },
  {
   "cell_type": "code",
   "execution_count": 222,
   "id": "7b7338d2-92d6-461c-b7b1-3d9ae257d6a6",
   "metadata": {},
   "outputs": [
    {
     "name": "stdout",
     "output_type": "stream",
     "text": [
      "          \n",
      "        A \n",
      "      A B \n",
      "    A B C \n",
      "  A B C D \n",
      "A B C D E \n"
     ]
    }
   ],
   "source": [
    "#28.\n",
    "for i in range(6):\n",
    "    for k in range(5-i):\n",
    "        print( \" \", end = \" \" )\n",
    "    for j in range(i):\n",
    "        print(chr(65+j), end = \" \")\n",
    "    print()"
   ]
  },
  {
   "cell_type": "code",
   "execution_count": 242,
   "id": "90ba0620-613a-4635-bf4a-a0bc27c04575",
   "metadata": {},
   "outputs": [
    {
     "name": "stdout",
     "output_type": "stream",
     "text": [
      "* * * * * \n",
      "  * * * * \n",
      "    * * * \n",
      "      * * \n",
      "        * \n"
     ]
    }
   ],
   "source": [
    "#29.\n",
    "for i in range(5):\n",
    "    for k in range(i):\n",
    "        print( \" \" , end = \" \")\n",
    "    for j in range(5-i,0,-1):\n",
    "        print(\"*\" , end = \" \")\n",
    "    print()"
   ]
  },
  {
   "cell_type": "code",
   "execution_count": 256,
   "id": "7a42a039-a880-4f9e-b026-d5ab2f3a8e4f",
   "metadata": {},
   "outputs": [
    {
     "name": "stdout",
     "output_type": "stream",
     "text": [
      "5 5 5 5 5 \n",
      "  4 4 4 4 \n",
      "    3 3 3 \n",
      "      2 2 \n",
      "        1 \n"
     ]
    }
   ],
   "source": [
    "#30.\n",
    "for i in range(5,0,-1):\n",
    "    for k in range(5-i):\n",
    "        print(\" \", end = \" \")\n",
    "    for j in range(i):\n",
    "        print(i, end = \" \")\n",
    "    print()"
   ]
  },
  {
   "cell_type": "code",
   "execution_count": 260,
   "id": "a066175b-5b97-4beb-8e67-0b522b9bd4ef",
   "metadata": {},
   "outputs": [
    {
     "name": "stdout",
     "output_type": "stream",
     "text": [
      "1 2 3 4 5 \n",
      "  1 2 3 4 \n",
      "    1 2 3 \n",
      "      1 2 \n",
      "        1 \n"
     ]
    }
   ],
   "source": [
    "#31.\n",
    "for i in range(5):\n",
    "    for k in range(i):\n",
    "        print( \" \",end = \" \")\n",
    "    for j in range(5-i):\n",
    "        print(j +1, end = \" \")\n",
    "    print()"
   ]
  },
  {
   "cell_type": "code",
   "execution_count": 268,
   "id": "e6c4e8f0-36a9-41fe-aa75-7b968f5c38b6",
   "metadata": {},
   "outputs": [
    {
     "name": "stdout",
     "output_type": "stream",
     "text": [
      "E E E E E \n",
      "  D D D D \n",
      "    C C C \n",
      "      B B \n",
      "        A \n"
     ]
    }
   ],
   "source": [
    "#32.\n",
    "for i in range(5):\n",
    "    for k in range(i):\n",
    "        print(\" \", end = \" \")\n",
    "    for j in range(5-i):\n",
    "        print(chr(69-i),end = \" \")\n",
    "    print()"
   ]
  },
  {
   "cell_type": "code",
   "execution_count": 270,
   "id": "f5f91e07-b3a7-4b3e-8561-50b5ca8c3d07",
   "metadata": {},
   "outputs": [
    {
     "name": "stdout",
     "output_type": "stream",
     "text": [
      "A B C D E \n",
      "  A B C D \n",
      "    A B C \n",
      "      A B \n",
      "        A \n"
     ]
    }
   ],
   "source": [
    "#33.\n",
    "for i in range(5):\n",
    "    for k in range(i):print( \" \" ,end = \" \")\n",
    "    for j in range(5-i):print(chr(65+j),end = \" \")\n",
    "    print()"
   ]
  },
  {
   "cell_type": "code",
   "execution_count": 350,
   "id": "c0050365-594b-4049-93e8-f305b477c996",
   "metadata": {},
   "outputs": [
    {
     "name": "stdout",
     "output_type": "stream",
     "text": [
      "            * \n",
      "          * * * \n",
      "        * * * * * \n",
      "      * * * * * * * \n",
      "    * * * * * * * * * \n"
     ]
    }
   ],
   "source": [
    "#34.\n",
    "odd = []\n",
    "for l in range(1,10,2):odd.append(l)\n",
    "for i in range(5):\n",
    "    for k in range(6 - i):print(\" \", end=\" \")\n",
    "    for j in range(odd[i]):print(\"*\", end=\" \")\n",
    "    print()\n",
    "        "
   ]
  },
  {
   "cell_type": "code",
   "execution_count": 358,
   "id": "2235c52f-95a4-4cae-9571-d50c110598bb",
   "metadata": {},
   "outputs": [
    {
     "name": "stdout",
     "output_type": "stream",
     "text": [
      "            1 \n",
      "          2 2 2 \n",
      "        3 3 3 3 3 \n",
      "      4 4 4 4 4 4 4 \n",
      "    5 5 5 5 5 5 5 5 5 \n"
     ]
    }
   ],
   "source": [
    "#35.\n",
    "for l in range(1,10,2):odd.append(l)\n",
    "for i in range(5):\n",
    "    for k in range(6 - i):print(\" \", end=\" \")\n",
    "    for j in range(odd[i]):print(i+1, end=\" \")\n",
    "    print()"
   ]
  },
  {
   "cell_type": "code",
   "execution_count": 366,
   "id": "347b72e4-7a18-4680-97b0-787930413ebd",
   "metadata": {},
   "outputs": [
    {
     "name": "stdout",
     "output_type": "stream",
     "text": [
      "            1 \n",
      "          3 3 3 \n",
      "        5 5 5 5 5 \n",
      "      7 7 7 7 7 7 7 \n",
      "    9 9 9 9 9 9 9 9 9 \n"
     ]
    }
   ],
   "source": [
    "#36.\n",
    "for l in range(1,10,2):odd.append(l)\n",
    "for i in range(5):\n",
    "    for k in range(6 - i):print(\" \", end=\" \")\n",
    "    for j in range(odd[i]):print(odd[i], end=\" \")\n",
    "    print()"
   ]
  },
  {
   "cell_type": "code",
   "execution_count": 374,
   "id": "fe644212-8921-434e-a5c9-4bae12e6396d",
   "metadata": {},
   "outputs": [
    {
     "name": "stdout",
     "output_type": "stream",
     "text": [
      "            A \n",
      "          B B B \n",
      "        C C C C C \n",
      "      D D D D D D D \n",
      "    E E E E E E E E E \n"
     ]
    }
   ],
   "source": [
    "#37.\n",
    "for l in range(1,10,2):odd.append(l)\n",
    "for i in range(5):\n",
    "    for k in range(6 - i):print(\" \", end=\" \")\n",
    "    for j in range(odd[i]):print(chr(65+i), end=\" \")\n",
    "    print()"
   ]
  },
  {
   "cell_type": "code",
   "execution_count": 380,
   "id": "743fd165-b21c-47bc-bd86-6f741f6d81f8",
   "metadata": {},
   "outputs": [
    {
     "name": "stdout",
     "output_type": "stream",
     "text": [
      "            A \n",
      "          C C C \n",
      "        E E E E E \n",
      "      G G G G G G G \n",
      "    I I I I I I I I I \n"
     ]
    }
   ],
   "source": [
    "#38.\n",
    "for l in range(1,10,2):odd.append(l)\n",
    "for i in range(5):\n",
    "    for k in range(6 - i):print(\" \", end=\" \")\n",
    "    for j in range(odd[i]):print(chr(odd[i]+64), end=\" \")\n",
    "    print()"
   ]
  },
  {
   "cell_type": "code",
   "execution_count": 384,
   "id": "e7a38fa7-225b-41c2-9096-04043c323721",
   "metadata": {},
   "outputs": [
    {
     "name": "stdout",
     "output_type": "stream",
     "text": [
      "            1 \n",
      "          1 2 3 \n",
      "        1 2 3 4 5 \n",
      "      1 2 3 4 5 6 7 \n",
      "    1 2 3 4 5 6 7 8 9 \n"
     ]
    }
   ],
   "source": [
    "#39.\n",
    "for l in range(1,10,2):odd.append(l)\n",
    "for i in range(5):\n",
    "    for k in range(6 - i):print(\" \", end=\" \")\n",
    "    for j in range(odd[i]):print(j+1, end=\" \")\n",
    "    print()"
   ]
  },
  {
   "cell_type": "code",
   "execution_count": 398,
   "id": "5f586511-5293-4be3-9065-ca3e8efa14bc",
   "metadata": {},
   "outputs": [
    {
     "name": "stdout",
     "output_type": "stream",
     "text": [
      "            1 \n",
      "          3 2 1 \n",
      "        5 4 3 2 1 \n",
      "      7 6 5 4 3 2 1 \n",
      "    9 8 7 6 5 4 3 2 1 \n"
     ]
    }
   ],
   "source": [
    "#40\n",
    "for l in range(1,10,2):odd.append(l)\n",
    "for i in range(5):\n",
    "    for k in range(6 - i):print(\" \", end=\" \")\n",
    "    for j in range(odd[i],0,-1):print(j, end=\" \")\n",
    "    print()"
   ]
  },
  {
   "cell_type": "code",
   "execution_count": 400,
   "id": "569116ce-924b-4aa3-9cd1-ab3506eb5e36",
   "metadata": {},
   "outputs": [
    {
     "name": "stdout",
     "output_type": "stream",
     "text": [
      "            A \n",
      "          A B C \n",
      "        A B C D E \n",
      "      A B C D E F G \n",
      "    A B C D E F G H I \n"
     ]
    }
   ],
   "source": [
    "#41.\n",
    "for l in range(1,10,2):odd.append(l)\n",
    "for i in range(5):\n",
    "    for k in range(6 - i):print(\" \", end=\" \")\n",
    "    for j in range(odd[i]):print(chr(65+j), end=\" \")\n",
    "    print()"
   ]
  },
  {
   "cell_type": "code",
   "execution_count": 404,
   "id": "8665c5fc-b5a4-45c2-be96-275c36e13da4",
   "metadata": {},
   "outputs": [
    {
     "name": "stdout",
     "output_type": "stream",
     "text": [
      "            A \n",
      "          C B A \n",
      "        E D C B A \n",
      "      G F E D C B A \n",
      "    I H G F E D C B A \n"
     ]
    }
   ],
   "source": [
    "#42.\n",
    "for l in range(1,10,2):odd.append(l)\n",
    "for i in range(5):\n",
    "    for k in range(6 - i):print(\" \", end=\" \")\n",
    "    for j in range(odd[i],0,-1):print(chr(64+j), end=\" \")\n",
    "    print()\n"
   ]
  },
  {
   "cell_type": "code",
   "execution_count": 406,
   "id": "e5a0f51e-35c3-4e24-b29f-4e8cb39a9dbb",
   "metadata": {},
   "outputs": [
    {
     "name": "stdout",
     "output_type": "stream",
     "text": [
      "            0 \n",
      "          1 0 1 \n",
      "        2 1 0 1 2 \n",
      "      3 2 1 0 1 2 3 \n",
      "    4 3 2 1 0 1 2 3 4 \n",
      "  5 4 3 2 1 0 1 2 3 4 5 \n"
     ]
    }
   ],
   "source": [
    "#43.\n",
    "for i in range(6):\n",
    "    for k in range(6 - i):\n",
    "        print(\" \", end=\" \")\n",
    "    for j in range(i, -1, -1):\n",
    "        print(j, end=\" \")\n",
    "    for j in range(1, i + 1):\n",
    "        print(j, end=\" \")\n",
    "    print()\n"
   ]
  },
  {
   "cell_type": "code",
   "execution_count": 408,
   "id": "a69677d7-b509-4a0f-9a2d-b3403f416b3b",
   "metadata": {},
   "outputs": [
    {
     "name": "stdout",
     "output_type": "stream",
     "text": [
      "            A \n",
      "          B A B \n",
      "        C B A B C \n",
      "      D C B A B C D \n",
      "    E D C B A B C D E \n",
      "  F E D C B A B C D E F \n"
     ]
    }
   ],
   "source": [
    "#44.\n",
    "for i in range(6):\n",
    "    for k in range(6 - i):\n",
    "        print(\" \", end=\" \")\n",
    "    for j in range(i, -1, -1):\n",
    "        print(chr(65+j), end=\" \")\n",
    "    for j in range(1, i + 1):\n",
    "        print(chr(65+j), end=\" \")\n",
    "    print()"
   ]
  },
  {
   "cell_type": "code",
   "execution_count": 459,
   "id": "b7aded7e-997d-4d15-a91c-319f78b217f8",
   "metadata": {},
   "outputs": [
    {
     "name": "stdout",
     "output_type": "stream",
     "text": [
      "            \n",
      "          1 \n",
      "        1 2 1 \n",
      "      1 2 3 2 1 \n",
      "    1 2 3 4 3 2 1 \n"
     ]
    }
   ],
   "source": [
    "#45.\n",
    "for i in range(5):\n",
    "    for k in range(6 - i):\n",
    "        print(\" \", end=\" \")\n",
    "    for j in range(i):\n",
    "        print(j+1, end=\" \")\n",
    "    for j in range(i-1,0,-1):\n",
    "        print(j, end=\" \")\n",
    "    print()"
   ]
  },
  {
   "cell_type": "code",
   "execution_count": 469,
   "id": "4a84ea4c-42bf-43b6-9fe6-e168e336e765",
   "metadata": {},
   "outputs": [
    {
     "name": "stdout",
     "output_type": "stream",
     "text": [
      "            \n",
      "          A \n",
      "        A B A \n",
      "      A B C B A \n",
      "    A B C D C B A \n",
      "  A B C D E D C B A \n"
     ]
    }
   ],
   "source": [
    "#46.\n",
    "for i in range(6):\n",
    "    for k in range(6 - i):\n",
    "        print(\" \", end=\" \")\n",
    "    for j in range(i):\n",
    "        print(chr(65+j), end=\" \")\n",
    "    for j in range(i-1,0,-1):\n",
    "        print(chr(64+j), end=\" \")\n",
    "    print()\n"
   ]
  },
  {
   "cell_type": "code",
   "execution_count": 513,
   "id": "767680c0-6c58-4d68-9d40-ebe41c0eb4d7",
   "metadata": {},
   "outputs": [
    {
     "name": "stdout",
     "output_type": "stream",
     "text": [
      "* * * * * * * \n",
      "  * * * * * \n",
      "    * * * \n",
      "      * \n"
     ]
    }
   ],
   "source": [
    "#47.\n",
    "odd = [ 7,5,3,1]\n",
    "for i in range(4):\n",
    "    for k in range(i):print(\" \",end = \" \")\n",
    "    for j in range(odd[i],0,-1):print(\"*\",end = \" \")\n",
    "    print()"
   ]
  },
  {
   "cell_type": "code",
   "execution_count": 543,
   "id": "b5c62721-e6d3-46c8-971f-2a8d1aea5d51",
   "metadata": {},
   "outputs": [
    {
     "name": "stdout",
     "output_type": "stream",
     "text": [
      "4 4 4 4 4 4 4 \n",
      "  3 3 3 3 3 \n",
      "    2 2 2 \n",
      "      1 \n"
     ]
    }
   ],
   "source": [
    "#48.\n",
    "odd = [ 7,5,3,1]\n",
    "for i in range(4):\n",
    "    for k in range(i):print(\" \",end = \" \")\n",
    "    for j in range(odd[i],0,-1):print(4-i,end = \" \")\n",
    "    print()\n"
   ]
  },
  {
   "cell_type": "code",
   "execution_count": 545,
   "id": "ce7ec42f-e607-4d31-8950-8447e580bb59",
   "metadata": {},
   "outputs": [
    {
     "name": "stdout",
     "output_type": "stream",
     "text": [
      "7 7 7 7 7 7 7 \n",
      "  5 5 5 5 5 \n",
      "    3 3 3 \n",
      "      1 \n"
     ]
    }
   ],
   "source": [
    "#49.\n",
    "odd = [ 7,5,3,1]\n",
    "for i in range(4):\n",
    "    for k in range(i):print(\" \",end = \" \")\n",
    "    for j in range(odd[i],0,-1):print(odd[i],end = \" \")\n",
    "    print()"
   ]
  },
  {
   "cell_type": "code",
   "execution_count": 551,
   "id": "4f9c0292-865d-491b-8627-dacad75ec539",
   "metadata": {},
   "outputs": [
    {
     "name": "stdout",
     "output_type": "stream",
     "text": [
      "1 2 3 4 5 6 7 \n",
      "  1 2 3 4 5 \n",
      "    1 2 3 \n",
      "      1 \n"
     ]
    }
   ],
   "source": [
    "#50\n",
    "odd = [ 7,5,3,1]\n",
    "for i in range(4):\n",
    "    for k in range(i):print(\" \",end = \" \")\n",
    "    for j in range(odd[i]):print(j+1,end = \" \")\n",
    "    print()"
   ]
  },
  {
   "cell_type": "code",
   "execution_count": 553,
   "id": "81828374-2e2f-47b4-8d9e-411f8eab3109",
   "metadata": {},
   "outputs": [
    {
     "name": "stdout",
     "output_type": "stream",
     "text": [
      "D D D D D D D \n",
      "  C C C C C \n",
      "    B B B \n",
      "      A \n"
     ]
    }
   ],
   "source": [
    "#51.\n",
    "odd = [ 7,5,3,1]\n",
    "for i in range(4):\n",
    "    for k in range(i):print(\" \",end = \" \")\n",
    "    for j in range(odd[i],0,-1):print(chr(68-i),end = \" \")\n",
    "    print()\n"
   ]
  },
  {
   "cell_type": "code",
   "execution_count": 555,
   "id": "7009bb99-3a78-4844-8bf7-afbac1442e3b",
   "metadata": {},
   "outputs": [
    {
     "name": "stdout",
     "output_type": "stream",
     "text": [
      "G G G G G G G \n",
      "  E E E E E \n",
      "    C C C \n",
      "      A \n"
     ]
    }
   ],
   "source": [
    "#52.\n",
    "odd = [ 7,5,3,1]\n",
    "for i in range(4):\n",
    "    for k in range(i):print(\" \",end = \" \")\n",
    "    for j in range(odd[i],0,-1):print(chr(64+odd[i]),end = \" \")\n",
    "    print()"
   ]
  },
  {
   "cell_type": "code",
   "execution_count": 557,
   "id": "5b928656-1d4c-4e20-a207-9c43974eae52",
   "metadata": {},
   "outputs": [
    {
     "name": "stdout",
     "output_type": "stream",
     "text": [
      "A B C D E F G \n",
      "  A B C D E \n",
      "    A B C \n",
      "      A \n"
     ]
    }
   ],
   "source": [
    "#53.\n",
    "for i in range(4):\n",
    "    for k in range(i):print(\" \",end = \" \")\n",
    "    for j in range(odd[i]):print(chr(65+j),end = \" \")\n",
    "    print()"
   ]
  },
  {
   "cell_type": "code",
   "execution_count": 79,
   "id": "9f4cc49c-78dc-48bc-8bd0-7274c07f4744",
   "metadata": {},
   "outputs": [
    {
     "name": "stdout",
     "output_type": "stream",
     "text": [
      "* \n",
      "* * \n",
      "* * * \n",
      "* * * * \n",
      "* * * \n",
      "* * \n",
      "* \n"
     ]
    }
   ],
   "source": [
    "#54.\n",
    "for i in range(4):print('* ' * (i + 1))\n",
    "for i in range(4- 1, 0, -1):print('* ' * i)    \n",
    "        "
   ]
  },
  {
   "cell_type": "code",
   "execution_count": 131,
   "id": "983bf4c0-ddde-42de-ae02-22029e79de04",
   "metadata": {},
   "outputs": [
    {
     "name": "stdout",
     "output_type": "stream",
     "text": [
      "3 \n",
      "3 2 \n",
      "3 2 1 \n",
      "3 2 1 0 \n",
      "3 2 1 \n",
      "3 2 \n",
      "3 \n"
     ]
    }
   ],
   "source": [
    "#55.\n",
    "for i in range(3+1):\n",
    "    for j in range(i+1):print(3-j,end = \" \")\n",
    "    print()\n",
    "for i in range(3-1,-1,-1):\n",
    "    for j in range(i+1):print(3-j, end = \" \")\n",
    "    print()\n",
    "        "
   ]
  },
  {
   "cell_type": "code",
   "execution_count": 285,
   "id": "829750b2-3a89-4686-8ff6-c3d8e9f9949f",
   "metadata": {},
   "outputs": [
    {
     "name": "stdout",
     "output_type": "stream",
     "text": [
      "\n",
      "3 \n",
      "2 3 \n",
      "1 2 3 \n",
      "0 1 2 3 \n",
      "1 2 3 \n",
      "2 3 \n",
      "3 \n",
      "\n"
     ]
    }
   ],
   "source": [
    "#56.\n",
    "for i in range(5):\n",
    "    num = 4-i\n",
    "    for j in range(i):print(num+j,end=\" \")\n",
    "    print()\n",
    "for i in range(4):\n",
    "    num_1 = 1 + i\n",
    "    for j in range(3-i): print(j+num_1 , end = \" \")\n",
    "    print()"
   ]
  },
  {
   "cell_type": "code",
   "execution_count": 307,
   "id": "715c712d-a733-4468-87dc-3799341a5a26",
   "metadata": {},
   "outputs": [
    {
     "name": "stdout",
     "output_type": "stream",
     "text": [
      "\n",
      "D \n",
      "D C \n",
      "D C B \n",
      "D C B A \n",
      "D C B \n",
      "D C \n",
      "D \n",
      "\n"
     ]
    }
   ],
   "source": [
    "#57.\n",
    "for i in range(5):\n",
    "    for j in range(i):print(chr(68-j),end = \" \" )\n",
    "    print()\n",
    "for i in range(4):\n",
    "    for j in range(3-i):print(chr(68-j) ,end = \" \")\n",
    "    print()"
   ]
  },
  {
   "cell_type": "code",
   "execution_count": 337,
   "id": "933be28d-3910-43e3-afd0-d698f4c0d509",
   "metadata": {},
   "outputs": [
    {
     "name": "stdout",
     "output_type": "stream",
     "text": [
      "\n",
      "D \n",
      "C D \n",
      "B C D \n",
      "A B C D \n",
      "B C D \n",
      "C D \n",
      "D \n",
      "\n"
     ]
    }
   ],
   "source": [
    "#58.\n",
    "for i in range(5):\n",
    "    num = 4-i\n",
    "    for j in range(i):print(chr(65+num+j),end = \" \")\n",
    "    print()\n",
    "for i in range(4):\n",
    "    num_1 = i +1\n",
    "    for j in range(3-i):print(chr(65+num_1+j) ,end = \" \")\n",
    "    print()"
   ]
  },
  {
   "cell_type": "code",
   "execution_count": 364,
   "id": "dc63b358-d046-4831-b989-123e435891a4",
   "metadata": {},
   "outputs": [
    {
     "name": "stdout",
     "output_type": "stream",
     "text": [
      "        \n",
      "      * \n",
      "    * * \n",
      "  * * * \n",
      "* * * * \n",
      "  * * * \n",
      "    * * \n",
      "      * \n",
      "        \n"
     ]
    }
   ],
   "source": [
    "#59.\n",
    "for i in range(5):\n",
    "    for k in range(4-i):print(\" \",end = \" \" )\n",
    "    for j in range(i):print(\"*\" ,end = \" \")\n",
    "    print()\n",
    "for i in range(4):\n",
    "    for k in range(i+1):print(\" \" , end = \" \")\n",
    "    for j in range(3-i):print(\"*\" , end = \" \" )\n",
    "    print()"
   ]
  },
  {
   "cell_type": "code",
   "execution_count": 368,
   "id": "97c53f04-aff7-4f63-b565-81dc3d05709c",
   "metadata": {},
   "outputs": [
    {
     "name": "stdout",
     "output_type": "stream",
     "text": [
      "        \n",
      "      3 \n",
      "    3 2 \n",
      "  3 2 1 \n",
      "3 2 1 0 \n",
      "  3 2 1 \n",
      "    3 2 \n",
      "      3 \n"
     ]
    }
   ],
   "source": [
    "#60.\n",
    "for i in range(5):\n",
    "    for k in range(4-i):print(\" \",end = \" \" )\n",
    "    for j in range(i):print(3-j,end = \" \" )\n",
    "    print()\n",
    "for i in range(1,4):\n",
    "    for k in range(i):print(\" \", end = \" \")\n",
    "    for j in range(4-i):print(3-j, end =  \" \")\n",
    "    print()"
   ]
  },
  {
   "cell_type": "code",
   "execution_count": 402,
   "id": "1b882ac6-6580-49b2-bc5c-2ee513518f31",
   "metadata": {},
   "outputs": [
    {
     "name": "stdout",
     "output_type": "stream",
     "text": [
      "        \n",
      "      3 \n",
      "    2 3 \n",
      "  1 2 3 \n",
      "0 1 2 3 \n",
      "  1 2 3 \n",
      "    2 3 \n",
      "      3 \n"
     ]
    }
   ],
   "source": [
    "#61.\n",
    "for i in range(5):\n",
    "    num = 4-i\n",
    "    for k in range(4-i):print( \" \" ,end = \" \")\n",
    "    for j in range(i):print(num+j, end = \" \")\n",
    "    print()\n",
    "for i in range(1,4):\n",
    "    for k in range(i):print(\" \", end = \" \")\n",
    "    for j in range(4-i):print(i+j,end = \" \")\n",
    "    print()"
   ]
  },
  {
   "cell_type": "code",
   "execution_count": 444,
   "id": "b527438e-3ceb-4917-8554-64ed7ed04008",
   "metadata": {},
   "outputs": [
    {
     "name": "stdout",
     "output_type": "stream",
     "text": [
      "        \n",
      "      D \n",
      "    C D \n",
      "  B C D \n",
      "A B C D \n",
      "  B C D \n",
      "    C D \n",
      "      D \n",
      "        \n"
     ]
    }
   ],
   "source": [
    "#62.\n",
    "for i in range(5):\n",
    "    num = 4-i\n",
    "    for k in range(4-i):print( \" \" , end = \" \")\n",
    "    for j in range(i):print(chr(num+65+j) , end = \" \")\n",
    "    print()\n",
    "for i in range(4):\n",
    "    for k in range(i+1):print( \" \" , end = \" \" )\n",
    "    for j in range(3-i):print(chr(66+i+j),end = \" \")\n",
    "    print()"
   ]
  },
  {
   "cell_type": "code",
   "execution_count": 452,
   "id": "362581c9-fe8a-4e63-8775-743e1b17cfc1",
   "metadata": {},
   "outputs": [
    {
     "name": "stdout",
     "output_type": "stream",
     "text": [
      "      D \n",
      "    D C \n",
      "  D C B \n",
      "D C B A \n",
      "  D C B \n",
      "    D C \n",
      "      D \n",
      "        \n"
     ]
    }
   ],
   "source": [
    "#63.\n",
    "for i in range(1,5):\n",
    "    for k in range(4-i):print(\" \", end = \" \")\n",
    "    for j in range(i):print(chr(68-j) ,end = \" \")\n",
    "    print()\n",
    "for i in range(4):\n",
    "    for k in range(i+1):print(\" \",end = \" \" )\n",
    "    for j in range(3-i):print(chr(68-j) , end = \" \")\n",
    "    print()\n",
    "    "
   ]
  },
  {
   "cell_type": "code",
   "execution_count": 462,
   "id": "d2783285-37ac-4014-828a-f1081202a0a4",
   "metadata": {},
   "outputs": [
    {
     "name": "stdout",
     "output_type": "stream",
     "text": [
      "    * \n",
      "   * * \n",
      "  * * * \n",
      " * * * * \n",
      "* * * * * \n"
     ]
    }
   ],
   "source": [
    "#64.\n",
    "for i in range(1,6):\n",
    "    for k in range(5-i):print( end = \" \" )\n",
    "    for j in range(i):print(\"*\" , end = \" \")\n",
    "    print()"
   ]
  },
  {
   "cell_type": "code",
   "execution_count": 464,
   "id": "00e181bc-c185-4248-9484-9cd2cf9acb88",
   "metadata": {},
   "outputs": [
    {
     "name": "stdout",
     "output_type": "stream",
     "text": [
      "    1 \n",
      "   2 2 \n",
      "  3 3 3 \n",
      " 4 4 4 4 \n",
      "5 5 5 5 5 \n"
     ]
    }
   ],
   "source": [
    "#65.\n",
    "for i in range(1,6):\n",
    "    for k in range(5-i):print(end = \" \")\n",
    "    for j in range(i):print(i , end = \" \")\n",
    "    print()"
   ]
  },
  {
   "cell_type": "code",
   "execution_count": 468,
   "id": "82991996-5b68-46e7-b955-c0acfa9f7874",
   "metadata": {},
   "outputs": [
    {
     "name": "stdout",
     "output_type": "stream",
     "text": [
      "    1 \n",
      "   1 2 \n",
      "  1 2 3 \n",
      " 1 2 3 4 \n",
      "1 2 3 4 5 \n"
     ]
    }
   ],
   "source": [
    "#66.\n",
    "for i in range(1,6):\n",
    "    for k in range(5-i):print(end = \" \")\n",
    "    for j in range(i):print(j+1, end = \" \")\n",
    "    print()"
   ]
  },
  {
   "cell_type": "code",
   "execution_count": 473,
   "id": "b72a4a16-8b0a-434e-a4c4-d03e251c606c",
   "metadata": {},
   "outputs": [
    {
     "name": "stdout",
     "output_type": "stream",
     "text": [
      "    A \n",
      "   B B \n",
      "  C C C \n",
      " D D D D \n",
      "E E E E E \n"
     ]
    }
   ],
   "source": [
    "#67.\n",
    "for i in range(1,6):\n",
    "    for k in range(5-i):print(end = \" \")\n",
    "    for j in range(i):print(chr(64+i),end = \" \")\n",
    "    print()"
   ]
  },
  {
   "cell_type": "code",
   "execution_count": 475,
   "id": "825ce40d-4688-435b-973c-a0fdafb4dfcb",
   "metadata": {},
   "outputs": [
    {
     "name": "stdout",
     "output_type": "stream",
     "text": [
      "    A \n",
      "   A B \n",
      "  A B C \n",
      " A B C D \n",
      "A B C D E \n"
     ]
    }
   ],
   "source": [
    "#68.\n",
    "for i in range(1,6):\n",
    "    for k in range(5-i):print( end = \" \")\n",
    "    for j in range(i):print(chr(65+j),end = \" \")\n",
    "    print()"
   ]
  },
  {
   "cell_type": "code",
   "execution_count": 477,
   "id": "79c4d5a2-93f6-4aea-be20-a8ce2cd57d2c",
   "metadata": {},
   "outputs": [
    {
     "name": "stdout",
     "output_type": "stream",
     "text": [
      "* * * * * \n",
      " * * * * \n",
      "  * * * \n",
      "   * * \n",
      "    * \n"
     ]
    }
   ],
   "source": [
    "#69.\n",
    "for i in range(5,0,-1):\n",
    "    for k in range(5-i):print(end = \" \")\n",
    "    for j in range(i):print(\"*\",end = \" \")\n",
    "    print()"
   ]
  },
  {
   "cell_type": "code",
   "execution_count": 479,
   "id": "a3a5bf53-e4ae-4156-a853-7cb9fbdb4ad1",
   "metadata": {},
   "outputs": [
    {
     "name": "stdout",
     "output_type": "stream",
     "text": [
      "5 5 5 5 5 \n",
      " 4 4 4 4 \n",
      "  3 3 3 \n",
      "   2 2 \n",
      "    1 \n"
     ]
    }
   ],
   "source": [
    "#70.\n",
    "for i in range(5,0,-1):\n",
    "    for k in range(5-i):print(end = \" \")\n",
    "    for j in range(i):print(i , end = \" \")\n",
    "    print()"
   ]
  },
  {
   "cell_type": "code",
   "execution_count": 481,
   "id": "da4c7960-aade-44e7-bed7-b3914dad4abb",
   "metadata": {},
   "outputs": [
    {
     "name": "stdout",
     "output_type": "stream",
     "text": [
      "5 4 3 2 1 \n",
      " 4 3 2 1 \n",
      "  3 2 1 \n",
      "   2 1 \n",
      "    1 \n"
     ]
    }
   ],
   "source": [
    "#71.\n",
    "for i in range(5,0,-1):\n",
    "    for k in  range(5-i):print(end = \" \")\n",
    "    for j  in range(i):print(i-j , end = \" \")\n",
    "    print()"
   ]
  },
  {
   "cell_type": "code",
   "execution_count": 487,
   "id": "d21ab430-aa63-4c1b-aa22-6c2e0a2715fd",
   "metadata": {},
   "outputs": [
    {
     "name": "stdout",
     "output_type": "stream",
     "text": [
      "E E E E E \n",
      " D D D D \n",
      "  C C C \n",
      "   B B \n",
      "    A \n"
     ]
    }
   ],
   "source": [
    "#72.\n",
    "for i in range(5,0,-1):\n",
    "    for k in range(5-i):print( end = \" \")\n",
    "    for j in range(i):print(chr(64+i),end = \" \")\n",
    "    print()"
   ]
  },
  {
   "cell_type": "code",
   "execution_count": 505,
   "id": "9da710eb-1995-4166-b20b-d48bb2a192f9",
   "metadata": {},
   "outputs": [
    {
     "name": "stdout",
     "output_type": "stream",
     "text": [
      "E D C B A \n",
      " D C B A \n",
      "  C B A \n",
      "   B A \n",
      "    A \n"
     ]
    }
   ],
   "source": [
    "#73.\n",
    "for i in range(5,0,-1):\n",
    "    num = 5-i\n",
    "    for k in range(5-i):print(end = \" \")\n",
    "    for j in range(i):print(chr(69-num-j),end = \" \")\n",
    "    print()"
   ]
  },
  {
   "cell_type": "code",
   "execution_count": 511,
   "id": "dac08819-c4a0-40aa-9dc9-ffd90dd47d3c",
   "metadata": {},
   "outputs": [
    {
     "name": "stdout",
     "output_type": "stream",
     "text": [
      " A B C D E \n",
      "  A B C D \n",
      "   A B C \n",
      "    A B \n",
      "     A \n"
     ]
    }
   ],
   "source": [
    "#74.\n",
    "for i in range(1,6):\n",
    "    for k in range(i):print(end = \" \")\n",
    "    for j in range(6-i):print(chr(65+j),end = \" \")\n",
    "    print()\n"
   ]
  },
  {
   "cell_type": "code",
   "execution_count": 547,
   "id": "520a0d14-edbf-4ea8-8f77-cf64995f79d2",
   "metadata": {},
   "outputs": [
    {
     "name": "stdout",
     "output_type": "stream",
     "text": [
      "    * \n",
      "   * * \n",
      "  * * * \n",
      " * * * * \n",
      "* * * * * \n",
      " * * * * \n",
      "  * * * \n",
      "   * * \n",
      "    * \n"
     ]
    }
   ],
   "source": [
    "#75.\n",
    "for i in  range(1,6):\n",
    "    for k in range(5-i):print(end = \" \")\n",
    "    for j in range(i):print(\"*\", end = \" \")\n",
    "    print()\n",
    "for i in range(1,5):\n",
    "    for k in range(i):print(end = \" \")\n",
    "    for j in range(5-i):print('*',end = \" \")\n",
    "    print()"
   ]
  },
  {
   "cell_type": "code",
   "execution_count": 555,
   "id": "ca0606d3-8049-4951-ad27-1511edc58aeb",
   "metadata": {},
   "outputs": [
    {
     "name": "stdout",
     "output_type": "stream",
     "text": [
      "    1 \n",
      "   2 2 \n",
      "  3 3 3 \n",
      " 4 4 4 4 \n",
      "5 5 5 5 5 \n",
      " 4 4 4 4 \n",
      "  3 3 3 \n",
      "   2 2 \n",
      "    1 \n"
     ]
    }
   ],
   "source": [
    "#76.\n",
    "for i in range(1,6):\n",
    "    for k in range(5-i):print(end = \" \")\n",
    "    for j in range(i):print(i,end = \" \" )\n",
    "    print()\n",
    "for i in range(4):\n",
    "    for k  in range(i+1):print(end = \" \")\n",
    "    for j in range(4-i):print(4-i,end = \" \")\n",
    "    print()"
   ]
  },
  {
   "cell_type": "code",
   "execution_count": 563,
   "id": "b7f83376-e90d-4d8e-bad7-84b51a1c3627",
   "metadata": {},
   "outputs": [
    {
     "name": "stdout",
     "output_type": "stream",
     "text": [
      "    1 \n",
      "   1 2 \n",
      "  1 2 3 \n",
      " 1 2 3 4 \n",
      "1 2 3 4 5 \n",
      " 2 3 4 5 \n",
      "  3 4 5 \n",
      "   4 5 \n",
      "    5 \n"
     ]
    }
   ],
   "source": [
    "#77.\n",
    "for i in range(1,6):\n",
    "    for k in range(5-i):print( end = \" \")\n",
    "    for j in range(1,i+1):print(j,end = \" \")\n",
    "    print()\n",
    "for i in range(1,5):\n",
    "    for k in range(i):print(end = \" \")\n",
    "    for j in range(5-i):print(j+1+i,end = \" \")\n",
    "    print()"
   ]
  },
  {
   "cell_type": "code",
   "execution_count": 571,
   "id": "c5f17bf7-d97c-44bf-8f18-2372754227f5",
   "metadata": {},
   "outputs": [
    {
     "name": "stdout",
     "output_type": "stream",
     "text": [
      "    1 \n",
      "   1 2 \n",
      "  1 2 3 \n",
      " 1 2 3 4 \n",
      "1 2 3 4 5 \n",
      " 2 3 4 5 \n",
      "  3 4 5 \n",
      "   4 5 \n",
      "    5 \n"
     ]
    }
   ],
   "source": [
    "#78.\n",
    "for i in range(1,6):\n",
    "    for k in range(5-i):print(end = \" \")\n",
    "    for j in range(i):print(j+1 , end = \" \")\n",
    "    print()\n",
    "for i in range(1,5):\n",
    "    for k in range(i):print(end = \" \")\n",
    "    for j in range(5-i):print(j+i+1, end = \" \")\n",
    "    print()\n",
    "    "
   ]
  },
  {
   "cell_type": "code",
   "execution_count": 577,
   "id": "0a81900d-fd3d-4c44-b4b8-a041e3bf944f",
   "metadata": {},
   "outputs": [
    {
     "name": "stdout",
     "output_type": "stream",
     "text": [
      "    A \n",
      "   B B \n",
      "  C C C \n",
      " D D D D \n",
      "E E E E E \n",
      " D D D D \n",
      "  C C C \n",
      "   B B \n",
      "    A \n"
     ]
    }
   ],
   "source": [
    "#79.\n",
    "for i in range(1,6):\n",
    "    for k in range(5-i):print(end = \" \")\n",
    "    for j in range(i):print(chr(64+i),end = \" \" )\n",
    "    print()\n",
    "for i in range(4):\n",
    "    for k  in range(i+1):print(end = \" \")\n",
    "    for j in range(4-i):print(chr(68-i),end = \" \")\n",
    "    print()"
   ]
  },
  {
   "cell_type": "code",
   "execution_count": 583,
   "id": "29ecd3bd-3458-4e11-bda2-4955b8c4fc44",
   "metadata": {},
   "outputs": [
    {
     "name": "stdout",
     "output_type": "stream",
     "text": [
      "    A \n",
      "   A B \n",
      "  A B C \n",
      " A B C D \n",
      "A B C D E \n",
      " B C D E \n",
      "  C D E \n",
      "   D E \n",
      "    E \n"
     ]
    }
   ],
   "source": [
    "#80.\n",
    "for i in range(1,6):\n",
    "    for k in range(5-i):print(end = \" \")\n",
    "    for j in range(i):print(chr(64+j+1) , end = \" \")\n",
    "    print()\n",
    "for i in range(1,5):\n",
    "    for k in range(i):print(end = \" \")\n",
    "    for j in range(5-i):print(chr(65+j+i), end = \" \")\n",
    "    print()"
   ]
  },
  {
   "cell_type": "code",
   "execution_count": 744,
   "id": "37814c85-d6b0-4e9a-b06b-5d0d68af7505",
   "metadata": {},
   "outputs": [
    {
     "name": "stdout",
     "output_type": "stream",
     "text": [
      "     * \n",
      "    * * \n",
      "   *   * \n",
      "  *     * \n",
      " *       * \n"
     ]
    }
   ],
   "source": [
    "#81.\n",
    "for i in range(5):\n",
    "    for k in range(5 - i):print(end=\" \")\n",
    "    for j in range(1):\n",
    "        if i == 0:print(\"*\", end=\" \")\n",
    "        else:\n",
    "            print(\"*\", end=\" \")\n",
    "            print(\" \" * (i * 2 -2), end=\"\")\n",
    "            print(\"*\", end=\" \")\n",
    "    print()"
   ]
  },
  {
   "cell_type": "code",
   "execution_count": 754,
   "id": "1f33a009-d06e-4e35-867b-01fbdac2245b",
   "metadata": {},
   "outputs": [
    {
     "name": "stdout",
     "output_type": "stream",
     "text": [
      "     1 \n",
      "    2 2 \n",
      "   3   3 \n",
      "  4     4 \n",
      " 5       5 \n"
     ]
    }
   ],
   "source": [
    "#82.\n",
    "for i in range(5):\n",
    "    for k in range(5 - i):print(end=\" \")\n",
    "    for j in range(1):\n",
    "        if i == 0:print(j+i+1, end=\" \")\n",
    "        else:\n",
    "            print(j+i+1, end=\" \")\n",
    "            print(\" \" * (i * 2 -2), end=\"\")\n",
    "            print(j+i+1, end=\" \")\n",
    "    print()\n"
   ]
  },
  {
   "cell_type": "code",
   "execution_count": 709,
   "id": "eb31dbdb-fa76-439c-9f92-0e4ab934ded4",
   "metadata": {},
   "outputs": [
    {
     "name": "stdout",
     "output_type": "stream",
     "text": [
      "     5 \n",
      "    4 4 \n",
      "   3   3 \n",
      "  2     2 \n",
      " 1       1 \n"
     ]
    }
   ],
   "source": [
    "#83.\n",
    "for i in range(5):\n",
    "    for k in range(5 - i):print(end=\" \")\n",
    "    for j in range(1):\n",
    "        if i == 0:print(5 - i, end=\" \")\n",
    "        else:\n",
    "            print(5 - i, end=\" \")\n",
    "            print(\" \" * (i * 2 -2), end=\"\")\n",
    "            print(5 - i, end=\" \")\n",
    "    print()"
   ]
  },
  {
   "cell_type": "code",
   "execution_count": 722,
   "id": "0653c790-2689-4274-ab8a-300a7e4a57e8",
   "metadata": {},
   "outputs": [
    {
     "name": "stdout",
     "output_type": "stream",
     "text": [
      "      A \n",
      "     B B \n",
      "    C   C \n",
      "   D     D \n",
      "  E       E \n"
     ]
    }
   ],
   "source": [
    "#84.\n",
    "for i in range(5):\n",
    "    print(\" \"*(5-i),end = \" \")\n",
    "    for j in range(1):\n",
    "        if i==0:print(chr(65+i) , end = \" \")\n",
    "        else:\n",
    "            print(chr(65+i) , end =\" \")\n",
    "            print(\" \" * (i * 2 -2), end=\"\")\n",
    "            print(chr(65+i) , end =\" \")\n",
    "    print()\n",
    "            \n",
    "                  "
   ]
  },
  {
   "cell_type": "code",
   "execution_count": 762,
   "id": "5fc885c2-2236-474a-9cdb-6fbf1c412ac4",
   "metadata": {},
   "outputs": [
    {
     "name": "stdout",
     "output_type": "stream",
     "text": [
      "      E \n",
      "     D D \n",
      "    C   C \n",
      "   B     B \n",
      "  A       A \n"
     ]
    }
   ],
   "source": [
    " #85.\n",
    "for i in range(5):\n",
    "    print(\" \"*(5-i),end = \" \")\n",
    "    for j in range(1):\n",
    "        if i==0:print(chr(69-i) , end = \" \")\n",
    "        else:\n",
    "            print(chr(69-i) , end =\" \")\n",
    "            print(\" \" * (i * 2 -2), end=\"\")\n",
    "            print(chr(69-i) , end =\" \")\n",
    "    print()\n",
    "            "
   ]
  },
  {
   "cell_type": "code",
   "execution_count": 852,
   "id": "f11f9625-9df9-4b2f-8520-04df5ac2bf91",
   "metadata": {},
   "outputs": [
    {
     "name": "stdout",
     "output_type": "stream",
     "text": [
      "*       *\n",
      " *     *\n",
      "  *   *\n",
      "   * *\n",
      "    *\n"
     ]
    }
   ],
   "source": [
    "#86\n",
    "for i in range(5):\n",
    "    print(\" \" * i, end=\"\")\n",
    "    for j in range(1):\n",
    "        print('*', end=\"\")\n",
    "        if i < 4:\n",
    "            print(\" \" * (2 * (4 - i) - 1), end=\"\")\n",
    "            print(\"*\", end=\"\")\n",
    "    print()"
   ]
  },
  {
   "cell_type": "code",
   "execution_count": 826,
   "id": "09246985-d456-4224-85fc-0b1f7d56d9b2",
   "metadata": {},
   "outputs": [
    {
     "name": "stdout",
     "output_type": "stream",
     "text": [
      "1       1\n",
      " 2     2\n",
      "  3   3\n",
      "   4 4\n",
      "    5\n"
     ]
    }
   ],
   "source": [
    "#87.\n",
    "for i in range(5):\n",
    "    print(\" \" * i, end=\"\")\n",
    "    for j in range(1):\n",
    "        print(i + 1, end=\"\")\n",
    "        if i < 4:\n",
    "            print(\" \" * (2 * (4 - i) - 1), end=\"\")\n",
    "            print(i + 1, end=\"\")\n",
    "    print() "
   ]
  },
  {
   "cell_type": "code",
   "execution_count": 850,
   "id": "b5539e8c-2675-4ae8-b946-7ace6294ed6b",
   "metadata": {},
   "outputs": [
    {
     "name": "stdout",
     "output_type": "stream",
     "text": [
      "5       5 \n",
      " 4     4 \n",
      "  3   3 \n",
      "   2 2 \n",
      "    1\n"
     ]
    }
   ],
   "source": [
    "#88.\n",
    "for i in range(5):\n",
    "    print(\" \"*i , end = \"\")\n",
    "    for j in range(1):\n",
    "        print(5-i, end =\"\")\n",
    "        if i<4:\n",
    "            print(\" \"*(2*(4-i)-1),end= \"\")\n",
    "            print(5-i,end = \" \")\n",
    "    print()\n",
    "        "
   ]
  },
  {
   "cell_type": "code",
   "execution_count": 858,
   "id": "e9fdf121-692f-4b1a-a287-851d88bebd5e",
   "metadata": {},
   "outputs": [
    {
     "name": "stdout",
     "output_type": "stream",
     "text": [
      "A       A \n",
      " B     B \n",
      "  C   C \n",
      "   D D \n",
      "    E\n"
     ]
    }
   ],
   "source": [
    "#89.\n",
    "for i in range(5):\n",
    "    print(\" \"*i , end = \"\")\n",
    "    for j in range(1):\n",
    "        print(chr(ord('A')+i), end =\"\")\n",
    "        if i<4:\n",
    "            print(\" \"*(2*(4-i)-1),end= \"\")\n",
    "            print(chr(ord('A')+i),end = \" \")\n",
    "    print()\n",
    "        "
   ]
  },
  {
   "cell_type": "code",
   "execution_count": 862,
   "id": "4baf04b6-f1ac-4154-a0aa-438b570cb3b3",
   "metadata": {},
   "outputs": [
    {
     "name": "stdout",
     "output_type": "stream",
     "text": [
      "E       E \n",
      " D     D \n",
      "  C   C \n",
      "   B B \n",
      "    A\n"
     ]
    }
   ],
   "source": [
    "#90.\n",
    "for i in range(5):\n",
    "    print(\" \"*i , end = \"\")\n",
    "    for j in range(1):\n",
    "        print(chr(ord('E')-i), end =\"\")\n",
    "        if i<4:\n",
    "            print(\" \"*(2*(4-i)-1),end= \"\")\n",
    "            print(chr(ord('E')-i),end = \" \")\n",
    "    print()\n",
    "        \n"
   ]
  },
  {
   "cell_type": "code",
   "execution_count": 1052,
   "id": "b9d1fcc1-619c-4bed-8808-c23a672f044d",
   "metadata": {},
   "outputs": [
    {
     "name": "stdout",
     "output_type": "stream",
     "text": [
      "    *\n",
      "   * *\n",
      "  *   *\n",
      " *     *\n",
      "*       *\n",
      " *     *\n",
      "  *   *\n",
      "   * *\n",
      "    *\n"
     ]
    }
   ],
   "source": [
    "#91.\n",
    "for i in range(1,6):\n",
    "    print(\" \"*(5-i), end = \"\")\n",
    "    for j in range(1):\n",
    "        if i == 1:\n",
    "            print(\"*\", end =\"\")\n",
    "        else:\n",
    "            print(\"*\", end =\" \")\n",
    "            print(\" \"*((i * 2)-4),end =  \"\")\n",
    "            print(\"*\", end = \"\")\n",
    "    print()\n",
    "for i in range(4):\n",
    "    print(\" \" * (i + 1), end=\"\")\n",
    "    if i == 3:\n",
    "        print(\"*\")\n",
    "    else:\n",
    "        print(\"*\", end=\"\")\n",
    "        print(\" \" * (2 * (3 - i) - 1), end=\"\")\n",
    "        print(\"*\")"
   ]
  },
  {
   "cell_type": "code",
   "execution_count": 1054,
   "id": "75ade1d5-7b1f-48b3-9b02-9aad6cbd3007",
   "metadata": {},
   "outputs": [
    {
     "name": "stdout",
     "output_type": "stream",
     "text": [
      "    1\n",
      "   2 2\n",
      "  3   3\n",
      " 4     4\n",
      "5       5\n",
      " 4     4\n",
      "  3   3\n",
      "   2 2\n",
      "    1\n"
     ]
    }
   ],
   "source": [
    "#92.\n",
    "for i in range(1,6):\n",
    "    print(\" \"*(5-i), end = \"\")\n",
    "    for j in range(1):\n",
    "        if i == 1:\n",
    "            print(i, end =\"\")\n",
    "        else:\n",
    "            print(i, end =\" \")\n",
    "            print(\" \"*((i * 2)-4),end =  \"\")\n",
    "            print(i, end = \"\")\n",
    "    print()\n",
    "for i in range(4):\n",
    "    print(\" \" * (i + 1), end=\"\")\n",
    "    if i == 3:\n",
    "        print(1)\n",
    "    else:\n",
    "        print(4 - i, end=\"\")\n",
    "        print(\" \" * (2 * (3 - i) - 1), end=\"\")\n",
    "        print(4 - i)"
   ]
  },
  {
   "cell_type": "code",
   "execution_count": 1074,
   "id": "b3a5087d-148c-49b0-bf11-8308274e5ba1",
   "metadata": {},
   "outputs": [
    {
     "name": "stdout",
     "output_type": "stream",
     "text": [
      "    5\n",
      "   4 4\n",
      "  3   3\n",
      " 2     2\n",
      "1       1\n",
      " 2     2\n",
      "  3   3\n",
      "   4 4\n",
      "    5\n"
     ]
    }
   ],
   "source": [
    "#93.\n",
    "for i in range(1,6):\n",
    "    print(\" \"*(5-i), end = \"\")\n",
    "    for j in range(1):\n",
    "        if i == 1:\n",
    "            print(6-i, end =\"\")\n",
    "        else:\n",
    "            print(6-i, end =\" \")\n",
    "            print(\" \"*((i * 2)-4),end =  \"\")\n",
    "            print(6-i, end = \"\")\n",
    "    print()\n",
    "for i in range(4):\n",
    "    print(\" \" * (i + 1), end=\"\")\n",
    "    if i == 3:\n",
    "        print(5)\n",
    "    else:\n",
    "        print(i+2, end=\"\")\n",
    "        print(\" \" * (2 * (3 - i) - 1), end=\"\")\n",
    "        print(i+2)"
   ]
  },
  {
   "cell_type": "code",
   "execution_count": 1101,
   "id": "a9e18943-c7aa-4234-8715-4a52de68662b",
   "metadata": {},
   "outputs": [
    {
     "name": "stdout",
     "output_type": "stream",
     "text": [
      "    A\n",
      "   B B\n",
      "  C   C\n",
      " D     D\n",
      "E       E\n",
      " D     D\n",
      "  C   C\n",
      "   B B\n",
      "    A\n"
     ]
    }
   ],
   "source": [
    "#94.\n",
    "for i in range(1,6):\n",
    "    print(\" \"*(5-i), end = \"\")\n",
    "    for j in range(1):\n",
    "        if i == 1:\n",
    "            print(chr(ord('A')), end =\"\")\n",
    "        else:\n",
    "            print(chr(64+i), end =\" \")\n",
    "            print(\" \"*((i * 2)-4),end =  \"\")\n",
    "            print(chr(64+i), end = \"\")\n",
    "    print()\n",
    "for i in range(4):\n",
    "    print(\" \" * (i + 1), end=\"\")\n",
    "    if i == 3:\n",
    "        print(chr(ord('A')))\n",
    "    else:\n",
    "        print(chr(68-i), end=\"\")\n",
    "        print(\" \" * (2 * (3 - i) - 1), end=\"\")\n",
    "        print(chr(68-i))"
   ]
  },
  {
   "cell_type": "code",
   "execution_count": 1119,
   "id": "ea838554-e837-4f6e-9651-bfe9f3aefdbd",
   "metadata": {},
   "outputs": [
    {
     "name": "stdout",
     "output_type": "stream",
     "text": [
      "    E\n",
      "   D D\n",
      "  C   C\n",
      " B     B\n",
      "A       A\n",
      " B     B\n",
      "  C   C\n",
      "   D D\n",
      "    E\n"
     ]
    }
   ],
   "source": [
    "#95.\n",
    "for i in range(1,6):\n",
    "    print(\" \"*(5-i), end = \"\")\n",
    "    for j in range(1):\n",
    "        if i == 1:\n",
    "            print(chr(ord('E')), end =\"\")\n",
    "        else:\n",
    "            print(chr(70-i), end =\" \")\n",
    "            print(\" \"*((i * 2)-4),end =  \"\")\n",
    "            print(chr(70-i), end = \"\")\n",
    "    print()\n",
    "for i in range(4):\n",
    "    print(\" \" * (i + 1), end=\"\")\n",
    "    if i == 3:\n",
    "        print(chr(ord('E')))\n",
    "    else:\n",
    "        print(chr(66+i), end=\"\")\n",
    "        print(\" \" * (2 * (3 - i) - 1), end=\"\")\n",
    "        print(chr(66+i))"
   ]
  },
  {
   "cell_type": "code",
   "execution_count": 1347,
   "id": "ace7e1d3-2b75-49db-877a-b04d9d8a42d3",
   "metadata": {},
   "outputs": [
    {
     "name": "stdout",
     "output_type": "stream",
     "text": [
      "* * * * * * * * * * \n",
      "* * * *     * * * * \n",
      "* * *         * * * \n",
      "* *             * * \n",
      "*                 * \n"
     ]
    }
   ],
   "source": [
    "#96.\n",
    "for i in range(5):\n",
    "    for j in range(5 - i):\n",
    "        print(\"*\", end=\" \")\n",
    "    print(\" \" *(4 *i), end=\"\")\n",
    "    for j in range(5 - i):\n",
    "        print(\"*\", end=\" \")\n",
    "    print()"
   ]
  },
  {
   "cell_type": "code",
   "execution_count": 1497,
   "id": "06b90d48-598c-4d9f-9bab-d9c87db62ea9",
   "metadata": {},
   "outputs": [
    {
     "name": "stdout",
     "output_type": "stream",
     "text": [
      "*                 * \n",
      "* *             * * \n",
      "* * *         * * * \n",
      "* * * *     * * * * \n",
      "* * * * * * * * * * \n"
     ]
    }
   ],
   "source": [
    "#97.\n",
    "for i in range(5):\n",
    "    for j in range(i + 1):\n",
    "        print(\"*\", end=\" \")\n",
    "    print(\" \" * (4 * (4 - i)), end=\"\")\n",
    "    for j in range(i + 1):\n",
    "        print(\"*\", end=\" \")\n",
    "    print()"
   ]
  },
  {
   "cell_type": "code",
   "execution_count": 1584,
   "id": "708957c3-6fa7-4097-be60-557f0c27ddc4",
   "metadata": {},
   "outputs": [
    {
     "name": "stdout",
     "output_type": "stream",
     "text": [
      "*                 * \n",
      "* *             * * \n",
      "* * *         * * * \n",
      "* * * *     * * * * \n",
      "* * * * * * * * * * \n",
      "* * * *     * * * * \n",
      "* * *         * * * \n",
      "* *             * * \n",
      "*                 * \n"
     ]
    }
   ],
   "source": [
    "#98.\n",
    "for i in range(4):\n",
    "    for j in range(i + 1):\n",
    "        print(\"*\", end=\" \")\n",
    "    print(\" \" * (4 * (4 - i)), end=\"\")\n",
    "    for j in range(i + 1):\n",
    "        print(\"*\", end=\" \")\n",
    "    print()\n",
    "for i in range(5):\n",
    "    for j in range(5 - i):\n",
    "        print(\"*\", end=\" \")\n",
    "    print(\" \" *(4 *i), end=\"\")\n",
    "    for j in range(5 - i):\n",
    "        print(\"*\", end=\" \")\n",
    "    print()"
   ]
  },
  {
   "cell_type": "code",
   "execution_count": 96,
   "id": "7df98a6e-32b6-41ed-afc7-f7e7e4623c32",
   "metadata": {
    "scrolled": true
   },
   "outputs": [
    {
     "name": "stdout",
     "output_type": "stream",
     "text": [
      "      *             * \n",
      "    * * *         * * * \n",
      "  * * * * *     * * * * * \n",
      "* * * * * * * * * * * * * * \n"
     ]
    }
   ],
   "source": [
    "#99\n",
    "for i in range(3):\n",
    "    for j in range(4 - i - 1):print(\" \", end=\" \")\n",
    "    for j in range(2 * i + 1):print(\"*\", end=\" \")\n",
    "    for j in range(2 * (4 - i - 1)):print(\" \", end=\" \")\n",
    "    for j in range(2 * i + 1):print(\"*\", end=\" \")\n",
    "    print()\n",
    "for i in range(4 * height - 6):print(\"*\", end=\" \")\n",
    "print()"
   ]
  },
  {
   "cell_type": "code",
   "execution_count": 100,
   "id": "6efd8e52-6060-4cf1-a824-01b062eb9251",
   "metadata": {},
   "outputs": [
    {
     "name": "stdin",
     "output_type": "stream",
     "text": [
      "Enter your number:  23\n"
     ]
    },
    {
     "name": "stdout",
     "output_type": "stream",
     "text": [
      "23 22 21 20 19 18 17 16 15 14 13 12 11 10 9 8 7 6 5 4 3 2 1\n",
      " 22 21 20 19 18 17 16 15 14 13 12 11 10 9 8 7 6 5 4 3 2 1\n",
      "  21 20 19 18 17 16 15 14 13 12 11 10 9 8 7 6 5 4 3 2 1\n",
      "   20 19 18 17 16 15 14 13 12 11 10 9 8 7 6 5 4 3 2 1\n",
      "    19 18 17 16 15 14 13 12 11 10 9 8 7 6 5 4 3 2 1\n",
      "     18 17 16 15 14 13 12 11 10 9 8 7 6 5 4 3 2 1\n",
      "      17 16 15 14 13 12 11 10 9 8 7 6 5 4 3 2 1\n",
      "       16 15 14 13 12 11 10 9 8 7 6 5 4 3 2 1\n",
      "        15 14 13 12 11 10 9 8 7 6 5 4 3 2 1\n",
      "         14 13 12 11 10 9 8 7 6 5 4 3 2 1\n",
      "          13 12 11 10 9 8 7 6 5 4 3 2 1\n",
      "           12 11 10 9 8 7 6 5 4 3 2 1\n",
      "            11 10 9 8 7 6 5 4 3 2 1\n",
      "             10 9 8 7 6 5 4 3 2 1\n",
      "              9 8 7 6 5 4 3 2 1\n",
      "               8 7 6 5 4 3 2 1\n",
      "                7 6 5 4 3 2 1\n",
      "                 6 5 4 3 2 1\n",
      "                  5 4 3 2 1\n",
      "                   4 3 2 1\n",
      "                    3 2 1\n",
      "                     2 1\n",
      "                      1\n"
     ]
    }
   ],
   "source": [
    "#100.\n"
   ]
  },
  {
   "cell_type": "code",
   "execution_count": null,
   "id": "732299b8-cd9d-412b-aba0-84baaa08fbf5",
   "metadata": {},
   "outputs": [],
   "source": []
  }
 ],
 "metadata": {
  "kernelspec": {
   "display_name": "Python [conda env:base] *",
   "language": "python",
   "name": "conda-base-py"
  },
  "language_info": {
   "codemirror_mode": {
    "name": "ipython",
    "version": 3
   },
   "file_extension": ".py",
   "mimetype": "text/x-python",
   "name": "python",
   "nbconvert_exporter": "python",
   "pygments_lexer": "ipython3",
   "version": "3.12.7"
  }
 },
 "nbformat": 4,
 "nbformat_minor": 5
}
